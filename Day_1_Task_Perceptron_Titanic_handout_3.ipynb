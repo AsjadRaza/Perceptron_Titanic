{
  "nbformat": 4,
  "nbformat_minor": 0,
  "metadata": {
    "accelerator": "GPU",
    "colab": {
      "name": "Day_1_Task_Perceptron_Titanic_handout.ipynb",
      "provenance": []
    },
    "kernelspec": {
      "display_name": "Python 3",
      "language": "python",
      "name": "python3"
    },
    "language_info": {
      "codemirror_mode": {
        "name": "ipython",
        "version": 3
      },
      "file_extension": ".py",
      "mimetype": "text/x-python",
      "name": "python",
      "nbconvert_exporter": "python",
      "pygments_lexer": "ipython3",
      "version": "3.7.3"
    },
    "toc": {
      "base_numbering": 1,
      "nav_menu": {},
      "number_sections": true,
      "sideBar": true,
      "skip_h1_title": false,
      "title_cell": "Table of Contents",
      "title_sidebar": "Contents",
      "toc_cell": false,
      "toc_position": {},
      "toc_section_display": true,
      "toc_window_display": false
    },
    "varInspector": {
      "cols": {
        "lenName": 16,
        "lenType": 16,
        "lenVar": 40
      },
      "kernels_config": {
        "python": {
          "delete_cmd_postfix": "",
          "delete_cmd_prefix": "del ",
          "library": "var_list.py",
          "varRefreshCmd": "print(var_dic_list())"
        },
        "r": {
          "delete_cmd_postfix": ") ",
          "delete_cmd_prefix": "rm(",
          "library": "var_list.r",
          "varRefreshCmd": "cat(var_dic_list()) "
        }
      },
      "types_to_exclude": [
        "module",
        "function",
        "builtin_function_or_method",
        "instance",
        "_Feature"
      ],
      "window_display": false
    }
  },
  "cells": [
    {
      "cell_type": "markdown",
      "metadata": {
        "id": "YUzDt1uH39fi"
      },
      "source": [
        "# Preliminaries"
      ]
    },
    {
      "cell_type": "markdown",
      "metadata": {
        "id": "oHOp__y739fk"
      },
      "source": [
        "We download the data:"
      ]
    },
    {
      "cell_type": "code",
      "metadata": {
        "id": "KNUXJbCR39fm",
        "outputId": "4afc137d-7e4e-4616-ce85-f1be6409a021",
        "colab": {
          "base_uri": "https://localhost:8080/",
          "height": 223
        }
      },
      "source": [
        "! wget https://gitlab.com/andras.simonyi/10_days_AI_training_data/raw/65de5908dccf120762b305238e02610a8c18a3f9/titanic_train.csv"
      ],
      "execution_count": 1,
      "outputs": [
        {
          "output_type": "stream",
          "text": [
            "--2020-10-05 20:54:34--  https://gitlab.com/andras.simonyi/10_days_AI_training_data/raw/65de5908dccf120762b305238e02610a8c18a3f9/titanic_train.csv\n",
            "Resolving gitlab.com (gitlab.com)... 172.65.251.78, 2606:4700:90:0:f22e:fbec:5bed:a9b9\n",
            "Connecting to gitlab.com (gitlab.com)|172.65.251.78|:443... connected.\n",
            "HTTP request sent, awaiting response... 200 OK\n",
            "Length: unspecified [text/plain]\n",
            "Saving to: ‘titanic_train.csv.12’\n",
            "\n",
            "titanic_train.csv.1     [ <=>                ]  59.76K  --.-KB/s    in 0.08s   \n",
            "\n",
            "2020-10-05 20:54:35 (769 KB/s) - ‘titanic_train.csv.12’ saved [61194]\n",
            "\n"
          ],
          "name": "stdout"
        }
      ]
    },
    {
      "cell_type": "markdown",
      "metadata": {
        "id": "I4vqnj1439f3"
      },
      "source": [
        "# A perceptron implementation in NumPy"
      ]
    },
    {
      "cell_type": "markdown",
      "metadata": {
        "id": "MqM-bF5j39f4"
      },
      "source": [
        "We create a Perceptron class, which mimics scikit-learn estimators by providing a `fit` and a `predict` method:\n",
        "+ The `predict` method returns a vector of predictions for an array of samples, while \n",
        "+ the `fit` method initializes the model parameters and trains the model using the perceptron learning rule."
      ]
    },
    {
      "cell_type": "code",
      "metadata": {
        "id": "Rn_0_-x739f6"
      },
      "source": [
        "import numpy as np\n",
        "from numpy.random import permutation, seed\n",
        "seed(50) # Fix the random seed\n",
        "\n",
        "class Perceptron:\n",
        "    \"\"\"A simple implementation of the classic single-neuron perceptron model.\n",
        "\n",
        "    Attrs:\n",
        "        fitted (bool): Whether the model has been fitted.\n",
        "        n_features (int): Number of input features.\n",
        "        weights (numpy array): The model's weights.\n",
        "        bias (float): The model's bias.\n",
        "    \"\"\"\n",
        "\n",
        "    def __init__(self):\n",
        "        \"\"\"Create a perceptron model.\n",
        "\n",
        "        Returns:\n",
        "            A new perceptron instance.\n",
        "        \"\"\"\n",
        "        self.fitted = False\n",
        "\n",
        "\n",
        "    def fit(self, X, y, n_epochs = 20, lr = 0.005):\n",
        "        \"\"\"Fit the model to a data set.\n",
        "\n",
        "        Args:\n",
        "            X (numpy array of shape (n_samples, n_features)): Training data.\n",
        "            y (numpy array of shape (n_samples,)): Target binary labels.\n",
        "            n_epochs (int): Number of training epochs.\n",
        "            lr (float): Learning rate.\n",
        "        \"\"\"\n",
        "        n_samples, self.n_features = X.shape\n",
        "        \n",
        "        # Initialization\n",
        "        # As we know, the ONLY neural model that can be initialized to zeroes\n",
        "        # is the Perceptron, if we use the perceptron learning rule.\n",
        "        # Please initialize the weights and biases to zero!\n",
        "        # Use Numpy!\n",
        "        # Bear in mind, that the weights are a VECTOR, not a one dimensional matrix!\n",
        "        # Bias is a scalar.\n",
        "        self.weights = np.zeros(self.n_features)\n",
        "        self.bias = 0.00\n",
        "\n",
        "        # Training\n",
        "        # Implement the main loop, use the epoch parameter!\n",
        "        for e in range(n_epochs):\n",
        "            print(\"Starting epoch\", e)\n",
        "\n",
        "            # Random shuffle - in  a tricky way.\n",
        "            # Generate a permutation mask with numpy \n",
        "            # which we will use to index into the data, thus realizing \"shuffling\".\n",
        "            # Numpy has a permutation function. \n",
        "            # Please bear in mind, how many datapoints do we have. \n",
        "            # We have a variable for it above...\n",
        "            perm = np.random.permutation(n_samples)\n",
        "\n",
        "            # Do the epoch!\n",
        "            # Observe the trick, please!\n",
        "            # We use the permutation mask to index into X and y,\n",
        "            # and we generate and iterator of tuples.\n",
        "            # Then we parse the intividual tuples (x, y pairs), and look through them.\n",
        "            for x, label in zip(X[perm], y[perm]): #you can uncomment this, if you have understood.\n",
        "                # Please convert the 1/0 label to 1/-1 label\n",
        "                # 1 should remain 1, 0 should become -1\n",
        "                # Use some easy mathematics, or whatever you feel like.\n",
        "                y_ = 2 * label - 1\n",
        "                \n",
        "                # Implement the update rule!\n",
        "                # If the simple product of the output of our neuron and the true label is\n",
        "                # less than or equal to zero (negative), we will update.\n",
        "                # Remember, the activation is W times x plus the bias.\n",
        "                # Please bear in mind, that the \"times\" here is denoting the dot product!\n",
        "                if (np.dot(self.weights, x) + self.bias) * y_ <= 0:\n",
        "                    # So, we have an error. We should \"update\" the weights and the bias!\n",
        "                    # We just add to the weight the multiplication of the input vector \n",
        "                    # and the true label, mutiplied by the learning rate \n",
        "                    # (we have a parameter for that).\n",
        "                    self.weights += lr * y_ * x\n",
        "                    # For the bias we have the \"virtual input\" of 1, so we only add true label \n",
        "                    # multiplied by the learning rate.\n",
        "                    self.bias += y_ * lr\n",
        "                \n",
        "                # Lo and behold, THAT'S IT!\n",
        "                # We have implemented a perceptron!\n",
        "        \n",
        "        self.fitted = True\n",
        "        print(\"Finished training.\")\n",
        "        \n",
        "    def predict(self, X):\n",
        "        \"\"\"Predict labels for samples.\n",
        "        \n",
        "        Args:\n",
        "            X (numpy array of shape (n_samples, n_features)):  Samples.\n",
        "\n",
        "        Returns:\n",
        "            A numpy array of shape (n_samples,) containing the predicted labels.\n",
        "        \"\"\"\n",
        "        if not self.fitted:\n",
        "            raise ValueError(\"Perceptron model is not fitted\")\n",
        "        elif X.shape[1] != self.n_features:\n",
        "            raise ValueError(f\"Incorrect number of input features (expected {self.n_features})\")\n",
        "        else:\n",
        "            \n",
        "            # Please think through and explain the trainer, WHY this is a matmul!?\n",
        "            #.... #You can remove the line, just here to make you think.\n",
        "            activations = np.matmul(X, self.weights) + self.bias\n",
        "            signs = np.sign(activations).astype(int) \n",
        "            # Tricky conversion of signs to 0/1 labels\n",
        "            return (signs + signs * signs) // 2"
      ],
      "execution_count": 2,
      "outputs": []
    },
    {
      "cell_type": "markdown",
      "metadata": {
        "id": "hZOuEHR-39gA"
      },
      "source": [
        "# Trying it out -- on the Titanic data set\n",
        "\n",
        "Short description of the data set:\n",
        "\n",
        "> The titanic [...] data frames describe the survival status of individual passengers on the Titanic.\n",
        "\n",
        "> Non-obvious variables:\n",
        "\n",
        ">- Pclass -- Passenger Class  (1 = 1st; 2 = 2nd; 3 = 3rd)\n",
        ">- Survived -- Survival  (0 = No; 1 = Yes)\n",
        ">- SibSp -- Number of Siblings/Spouses Aboard\n",
        ">- Parch -- Number of Parents/Children Aboard\n",
        ">- Fare (ticket price in British pound)\n",
        ">- Embarked -- Port of Embarkation (C = Cherbourg; Q = Queenstown; S = Southampton)\n"
      ]
    },
    {
      "cell_type": "code",
      "metadata": {
        "id": "4KwDk39u39gB"
      },
      "source": [
        "import pandas as pd\n",
        "from sklearn.model_selection import train_test_split\n",
        "\n",
        "\n",
        "df = pd.read_csv(\"titanic_train.csv\")"
      ],
      "execution_count": 3,
      "outputs": []
    },
    {
      "cell_type": "markdown",
      "metadata": {
        "id": "1Zlp8jaf39gG"
      },
      "source": [
        "For the sake of simplicity, we divide our data only into a training and a validation part:"
      ]
    },
    {
      "cell_type": "code",
      "metadata": {
        "id": "W3A-Xt9k39gH",
        "outputId": "cde94180-bc99-4cd1-d8f5-aa4670fa8dd2",
        "colab": {
          "base_uri": "https://localhost:8080/",
          "height": 54
        }
      },
      "source": [
        "df_train, df_valid = train_test_split(df, test_size = 0.1)\n",
        "df_train.reset_index(inplace = True)\n",
        "df_valid.reset_index(inplace = True)\n",
        "print(\"train shape:\", df_train.shape)\n",
        "print(\"validation shape:\", df_valid.shape)"
      ],
      "execution_count": 4,
      "outputs": [
        {
          "output_type": "stream",
          "text": [
            "train shape: (801, 13)\n",
            "validation shape: (90, 13)\n"
          ],
          "name": "stdout"
        }
      ]
    },
    {
      "cell_type": "markdown",
      "metadata": {
        "id": "-QdbPZKG39gN"
      },
      "source": [
        "## Inspecting and cleaning the data"
      ]
    },
    {
      "cell_type": "code",
      "metadata": {
        "scrolled": true,
        "id": "HXH4q_4I39gN",
        "outputId": "80a3aa99-3f3b-4904-b937-c64cdac1cd1a",
        "colab": {
          "base_uri": "https://localhost:8080/",
          "height": 206
        }
      },
      "source": [
        "df_train.head()"
      ],
      "execution_count": 5,
      "outputs": [
        {
          "output_type": "execute_result",
          "data": {
            "text/html": [
              "<div>\n",
              "<style scoped>\n",
              "    .dataframe tbody tr th:only-of-type {\n",
              "        vertical-align: middle;\n",
              "    }\n",
              "\n",
              "    .dataframe tbody tr th {\n",
              "        vertical-align: top;\n",
              "    }\n",
              "\n",
              "    .dataframe thead th {\n",
              "        text-align: right;\n",
              "    }\n",
              "</style>\n",
              "<table border=\"1\" class=\"dataframe\">\n",
              "  <thead>\n",
              "    <tr style=\"text-align: right;\">\n",
              "      <th></th>\n",
              "      <th>index</th>\n",
              "      <th>PassengerId</th>\n",
              "      <th>Survived</th>\n",
              "      <th>Pclass</th>\n",
              "      <th>Name</th>\n",
              "      <th>Sex</th>\n",
              "      <th>Age</th>\n",
              "      <th>SibSp</th>\n",
              "      <th>Parch</th>\n",
              "      <th>Ticket</th>\n",
              "      <th>Fare</th>\n",
              "      <th>Cabin</th>\n",
              "      <th>Embarked</th>\n",
              "    </tr>\n",
              "  </thead>\n",
              "  <tbody>\n",
              "    <tr>\n",
              "      <th>0</th>\n",
              "      <td>76</td>\n",
              "      <td>77</td>\n",
              "      <td>0</td>\n",
              "      <td>3</td>\n",
              "      <td>Staneff, Mr. Ivan</td>\n",
              "      <td>male</td>\n",
              "      <td>NaN</td>\n",
              "      <td>0</td>\n",
              "      <td>0</td>\n",
              "      <td>349208</td>\n",
              "      <td>7.8958</td>\n",
              "      <td>NaN</td>\n",
              "      <td>S</td>\n",
              "    </tr>\n",
              "    <tr>\n",
              "      <th>1</th>\n",
              "      <td>483</td>\n",
              "      <td>484</td>\n",
              "      <td>1</td>\n",
              "      <td>3</td>\n",
              "      <td>Turkula, Mrs. (Hedwig)</td>\n",
              "      <td>female</td>\n",
              "      <td>63.0</td>\n",
              "      <td>0</td>\n",
              "      <td>0</td>\n",
              "      <td>4134</td>\n",
              "      <td>9.5875</td>\n",
              "      <td>NaN</td>\n",
              "      <td>S</td>\n",
              "    </tr>\n",
              "    <tr>\n",
              "      <th>2</th>\n",
              "      <td>368</td>\n",
              "      <td>369</td>\n",
              "      <td>1</td>\n",
              "      <td>3</td>\n",
              "      <td>Jermyn, Miss. Annie</td>\n",
              "      <td>female</td>\n",
              "      <td>NaN</td>\n",
              "      <td>0</td>\n",
              "      <td>0</td>\n",
              "      <td>14313</td>\n",
              "      <td>7.7500</td>\n",
              "      <td>NaN</td>\n",
              "      <td>Q</td>\n",
              "    </tr>\n",
              "    <tr>\n",
              "      <th>3</th>\n",
              "      <td>846</td>\n",
              "      <td>847</td>\n",
              "      <td>0</td>\n",
              "      <td>3</td>\n",
              "      <td>Sage, Mr. Douglas Bullen</td>\n",
              "      <td>male</td>\n",
              "      <td>NaN</td>\n",
              "      <td>8</td>\n",
              "      <td>2</td>\n",
              "      <td>CA. 2343</td>\n",
              "      <td>69.5500</td>\n",
              "      <td>NaN</td>\n",
              "      <td>S</td>\n",
              "    </tr>\n",
              "    <tr>\n",
              "      <th>4</th>\n",
              "      <td>32</td>\n",
              "      <td>33</td>\n",
              "      <td>1</td>\n",
              "      <td>3</td>\n",
              "      <td>Glynn, Miss. Mary Agatha</td>\n",
              "      <td>female</td>\n",
              "      <td>NaN</td>\n",
              "      <td>0</td>\n",
              "      <td>0</td>\n",
              "      <td>335677</td>\n",
              "      <td>7.7500</td>\n",
              "      <td>NaN</td>\n",
              "      <td>Q</td>\n",
              "    </tr>\n",
              "  </tbody>\n",
              "</table>\n",
              "</div>"
            ],
            "text/plain": [
              "   index  PassengerId  Survived  Pclass  ...    Ticket     Fare  Cabin  Embarked\n",
              "0     76           77         0       3  ...    349208   7.8958    NaN         S\n",
              "1    483          484         1       3  ...      4134   9.5875    NaN         S\n",
              "2    368          369         1       3  ...     14313   7.7500    NaN         Q\n",
              "3    846          847         0       3  ...  CA. 2343  69.5500    NaN         S\n",
              "4     32           33         1       3  ...    335677   7.7500    NaN         Q\n",
              "\n",
              "[5 rows x 13 columns]"
            ]
          },
          "metadata": {
            "tags": []
          },
          "execution_count": 5
        }
      ]
    },
    {
      "cell_type": "code",
      "metadata": {
        "id": "fKJLZhc739gU",
        "outputId": "e956d4aa-c9c0-481a-e18f-68e270c342e9",
        "colab": {
          "base_uri": "https://localhost:8080/",
          "height": 411
        }
      },
      "source": [
        "df_train.describe(include=\"all\")"
      ],
      "execution_count": 6,
      "outputs": [
        {
          "output_type": "execute_result",
          "data": {
            "text/html": [
              "<div>\n",
              "<style scoped>\n",
              "    .dataframe tbody tr th:only-of-type {\n",
              "        vertical-align: middle;\n",
              "    }\n",
              "\n",
              "    .dataframe tbody tr th {\n",
              "        vertical-align: top;\n",
              "    }\n",
              "\n",
              "    .dataframe thead th {\n",
              "        text-align: right;\n",
              "    }\n",
              "</style>\n",
              "<table border=\"1\" class=\"dataframe\">\n",
              "  <thead>\n",
              "    <tr style=\"text-align: right;\">\n",
              "      <th></th>\n",
              "      <th>index</th>\n",
              "      <th>PassengerId</th>\n",
              "      <th>Survived</th>\n",
              "      <th>Pclass</th>\n",
              "      <th>Name</th>\n",
              "      <th>Sex</th>\n",
              "      <th>Age</th>\n",
              "      <th>SibSp</th>\n",
              "      <th>Parch</th>\n",
              "      <th>Ticket</th>\n",
              "      <th>Fare</th>\n",
              "      <th>Cabin</th>\n",
              "      <th>Embarked</th>\n",
              "    </tr>\n",
              "  </thead>\n",
              "  <tbody>\n",
              "    <tr>\n",
              "      <th>count</th>\n",
              "      <td>801.000000</td>\n",
              "      <td>801.000000</td>\n",
              "      <td>801.000000</td>\n",
              "      <td>801.000000</td>\n",
              "      <td>801</td>\n",
              "      <td>801</td>\n",
              "      <td>638.000000</td>\n",
              "      <td>801.000000</td>\n",
              "      <td>801.000000</td>\n",
              "      <td>801</td>\n",
              "      <td>801.000000</td>\n",
              "      <td>183</td>\n",
              "      <td>799</td>\n",
              "    </tr>\n",
              "    <tr>\n",
              "      <th>unique</th>\n",
              "      <td>NaN</td>\n",
              "      <td>NaN</td>\n",
              "      <td>NaN</td>\n",
              "      <td>NaN</td>\n",
              "      <td>801</td>\n",
              "      <td>2</td>\n",
              "      <td>NaN</td>\n",
              "      <td>NaN</td>\n",
              "      <td>NaN</td>\n",
              "      <td>620</td>\n",
              "      <td>NaN</td>\n",
              "      <td>136</td>\n",
              "      <td>3</td>\n",
              "    </tr>\n",
              "    <tr>\n",
              "      <th>top</th>\n",
              "      <td>NaN</td>\n",
              "      <td>NaN</td>\n",
              "      <td>NaN</td>\n",
              "      <td>NaN</td>\n",
              "      <td>Frauenthal, Mrs. Henry William (Clara Heinshei...</td>\n",
              "      <td>male</td>\n",
              "      <td>NaN</td>\n",
              "      <td>NaN</td>\n",
              "      <td>NaN</td>\n",
              "      <td>1601</td>\n",
              "      <td>NaN</td>\n",
              "      <td>C23 C25 C27</td>\n",
              "      <td>S</td>\n",
              "    </tr>\n",
              "    <tr>\n",
              "      <th>freq</th>\n",
              "      <td>NaN</td>\n",
              "      <td>NaN</td>\n",
              "      <td>NaN</td>\n",
              "      <td>NaN</td>\n",
              "      <td>1</td>\n",
              "      <td>521</td>\n",
              "      <td>NaN</td>\n",
              "      <td>NaN</td>\n",
              "      <td>NaN</td>\n",
              "      <td>7</td>\n",
              "      <td>NaN</td>\n",
              "      <td>4</td>\n",
              "      <td>583</td>\n",
              "    </tr>\n",
              "    <tr>\n",
              "      <th>mean</th>\n",
              "      <td>439.128589</td>\n",
              "      <td>440.128589</td>\n",
              "      <td>0.373283</td>\n",
              "      <td>2.308365</td>\n",
              "      <td>NaN</td>\n",
              "      <td>NaN</td>\n",
              "      <td>30.039060</td>\n",
              "      <td>0.530587</td>\n",
              "      <td>0.377029</td>\n",
              "      <td>NaN</td>\n",
              "      <td>32.537900</td>\n",
              "      <td>NaN</td>\n",
              "      <td>NaN</td>\n",
              "    </tr>\n",
              "    <tr>\n",
              "      <th>std</th>\n",
              "      <td>256.872424</td>\n",
              "      <td>256.872424</td>\n",
              "      <td>0.483979</td>\n",
              "      <td>0.843233</td>\n",
              "      <td>NaN</td>\n",
              "      <td>NaN</td>\n",
              "      <td>14.516676</td>\n",
              "      <td>1.124445</td>\n",
              "      <td>0.807881</td>\n",
              "      <td>NaN</td>\n",
              "      <td>48.441166</td>\n",
              "      <td>NaN</td>\n",
              "      <td>NaN</td>\n",
              "    </tr>\n",
              "    <tr>\n",
              "      <th>min</th>\n",
              "      <td>0.000000</td>\n",
              "      <td>1.000000</td>\n",
              "      <td>0.000000</td>\n",
              "      <td>1.000000</td>\n",
              "      <td>NaN</td>\n",
              "      <td>NaN</td>\n",
              "      <td>0.420000</td>\n",
              "      <td>0.000000</td>\n",
              "      <td>0.000000</td>\n",
              "      <td>NaN</td>\n",
              "      <td>0.000000</td>\n",
              "      <td>NaN</td>\n",
              "      <td>NaN</td>\n",
              "    </tr>\n",
              "    <tr>\n",
              "      <th>25%</th>\n",
              "      <td>214.000000</td>\n",
              "      <td>215.000000</td>\n",
              "      <td>0.000000</td>\n",
              "      <td>2.000000</td>\n",
              "      <td>NaN</td>\n",
              "      <td>NaN</td>\n",
              "      <td>21.000000</td>\n",
              "      <td>0.000000</td>\n",
              "      <td>0.000000</td>\n",
              "      <td>NaN</td>\n",
              "      <td>7.925000</td>\n",
              "      <td>NaN</td>\n",
              "      <td>NaN</td>\n",
              "    </tr>\n",
              "    <tr>\n",
              "      <th>50%</th>\n",
              "      <td>435.000000</td>\n",
              "      <td>436.000000</td>\n",
              "      <td>0.000000</td>\n",
              "      <td>3.000000</td>\n",
              "      <td>NaN</td>\n",
              "      <td>NaN</td>\n",
              "      <td>28.750000</td>\n",
              "      <td>0.000000</td>\n",
              "      <td>0.000000</td>\n",
              "      <td>NaN</td>\n",
              "      <td>14.500000</td>\n",
              "      <td>NaN</td>\n",
              "      <td>NaN</td>\n",
              "    </tr>\n",
              "    <tr>\n",
              "      <th>75%</th>\n",
              "      <td>657.000000</td>\n",
              "      <td>658.000000</td>\n",
              "      <td>1.000000</td>\n",
              "      <td>3.000000</td>\n",
              "      <td>NaN</td>\n",
              "      <td>NaN</td>\n",
              "      <td>38.750000</td>\n",
              "      <td>1.000000</td>\n",
              "      <td>0.000000</td>\n",
              "      <td>NaN</td>\n",
              "      <td>31.275000</td>\n",
              "      <td>NaN</td>\n",
              "      <td>NaN</td>\n",
              "    </tr>\n",
              "    <tr>\n",
              "      <th>max</th>\n",
              "      <td>890.000000</td>\n",
              "      <td>891.000000</td>\n",
              "      <td>1.000000</td>\n",
              "      <td>3.000000</td>\n",
              "      <td>NaN</td>\n",
              "      <td>NaN</td>\n",
              "      <td>80.000000</td>\n",
              "      <td>8.000000</td>\n",
              "      <td>6.000000</td>\n",
              "      <td>NaN</td>\n",
              "      <td>512.329200</td>\n",
              "      <td>NaN</td>\n",
              "      <td>NaN</td>\n",
              "    </tr>\n",
              "  </tbody>\n",
              "</table>\n",
              "</div>"
            ],
            "text/plain": [
              "             index  PassengerId    Survived  ...        Fare        Cabin Embarked\n",
              "count   801.000000   801.000000  801.000000  ...  801.000000          183      799\n",
              "unique         NaN          NaN         NaN  ...         NaN          136        3\n",
              "top            NaN          NaN         NaN  ...         NaN  C23 C25 C27        S\n",
              "freq           NaN          NaN         NaN  ...         NaN            4      583\n",
              "mean    439.128589   440.128589    0.373283  ...   32.537900          NaN      NaN\n",
              "std     256.872424   256.872424    0.483979  ...   48.441166          NaN      NaN\n",
              "min       0.000000     1.000000    0.000000  ...    0.000000          NaN      NaN\n",
              "25%     214.000000   215.000000    0.000000  ...    7.925000          NaN      NaN\n",
              "50%     435.000000   436.000000    0.000000  ...   14.500000          NaN      NaN\n",
              "75%     657.000000   658.000000    1.000000  ...   31.275000          NaN      NaN\n",
              "max     890.000000   891.000000    1.000000  ...  512.329200          NaN      NaN\n",
              "\n",
              "[11 rows x 13 columns]"
            ]
          },
          "metadata": {
            "tags": []
          },
          "execution_count": 6
        }
      ]
    },
    {
      "cell_type": "code",
      "metadata": {
        "id": "SjJxTvZH39gY",
        "outputId": "ac1da419-e0db-40ae-8990-59deece4c802",
        "colab": {
          "base_uri": "https://localhost:8080/",
          "height": 279
        }
      },
      "source": [
        "df_train.isna().sum()"
      ],
      "execution_count": 7,
      "outputs": [
        {
          "output_type": "execute_result",
          "data": {
            "text/plain": [
              "index            0\n",
              "PassengerId      0\n",
              "Survived         0\n",
              "Pclass           0\n",
              "Name             0\n",
              "Sex              0\n",
              "Age            163\n",
              "SibSp            0\n",
              "Parch            0\n",
              "Ticket           0\n",
              "Fare             0\n",
              "Cabin          618\n",
              "Embarked         2\n",
              "dtype: int64"
            ]
          },
          "metadata": {
            "tags": []
          },
          "execution_count": 7
        }
      ]
    },
    {
      "cell_type": "markdown",
      "metadata": {
        "id": "l9FecFve39gd"
      },
      "source": [
        "Based on our inspection, we drop the Cabin, Ticket, PassengerId, Name and index columns, since they are unusable for the prediction task:"
      ]
    },
    {
      "cell_type": "code",
      "metadata": {
        "id": "mg8FUBtl39gf",
        "outputId": "56da714a-ee08-45f8-c2b7-504fa617ea55",
        "colab": {
          "base_uri": "https://localhost:8080/",
          "height": 206
        }
      },
      "source": [
        "columns_to_drop = [\"Cabin\", \"Ticket\", \"PassengerId\", \"Name\", \"index\"]\n",
        "df_train = df_train.drop(columns = columns_to_drop)\n",
        "df_valid = df_valid.drop(columns = columns_to_drop)\n",
        "df_train.head()"
      ],
      "execution_count": 8,
      "outputs": [
        {
          "output_type": "execute_result",
          "data": {
            "text/html": [
              "<div>\n",
              "<style scoped>\n",
              "    .dataframe tbody tr th:only-of-type {\n",
              "        vertical-align: middle;\n",
              "    }\n",
              "\n",
              "    .dataframe tbody tr th {\n",
              "        vertical-align: top;\n",
              "    }\n",
              "\n",
              "    .dataframe thead th {\n",
              "        text-align: right;\n",
              "    }\n",
              "</style>\n",
              "<table border=\"1\" class=\"dataframe\">\n",
              "  <thead>\n",
              "    <tr style=\"text-align: right;\">\n",
              "      <th></th>\n",
              "      <th>Survived</th>\n",
              "      <th>Pclass</th>\n",
              "      <th>Sex</th>\n",
              "      <th>Age</th>\n",
              "      <th>SibSp</th>\n",
              "      <th>Parch</th>\n",
              "      <th>Fare</th>\n",
              "      <th>Embarked</th>\n",
              "    </tr>\n",
              "  </thead>\n",
              "  <tbody>\n",
              "    <tr>\n",
              "      <th>0</th>\n",
              "      <td>0</td>\n",
              "      <td>3</td>\n",
              "      <td>male</td>\n",
              "      <td>NaN</td>\n",
              "      <td>0</td>\n",
              "      <td>0</td>\n",
              "      <td>7.8958</td>\n",
              "      <td>S</td>\n",
              "    </tr>\n",
              "    <tr>\n",
              "      <th>1</th>\n",
              "      <td>1</td>\n",
              "      <td>3</td>\n",
              "      <td>female</td>\n",
              "      <td>63.0</td>\n",
              "      <td>0</td>\n",
              "      <td>0</td>\n",
              "      <td>9.5875</td>\n",
              "      <td>S</td>\n",
              "    </tr>\n",
              "    <tr>\n",
              "      <th>2</th>\n",
              "      <td>1</td>\n",
              "      <td>3</td>\n",
              "      <td>female</td>\n",
              "      <td>NaN</td>\n",
              "      <td>0</td>\n",
              "      <td>0</td>\n",
              "      <td>7.7500</td>\n",
              "      <td>Q</td>\n",
              "    </tr>\n",
              "    <tr>\n",
              "      <th>3</th>\n",
              "      <td>0</td>\n",
              "      <td>3</td>\n",
              "      <td>male</td>\n",
              "      <td>NaN</td>\n",
              "      <td>8</td>\n",
              "      <td>2</td>\n",
              "      <td>69.5500</td>\n",
              "      <td>S</td>\n",
              "    </tr>\n",
              "    <tr>\n",
              "      <th>4</th>\n",
              "      <td>1</td>\n",
              "      <td>3</td>\n",
              "      <td>female</td>\n",
              "      <td>NaN</td>\n",
              "      <td>0</td>\n",
              "      <td>0</td>\n",
              "      <td>7.7500</td>\n",
              "      <td>Q</td>\n",
              "    </tr>\n",
              "  </tbody>\n",
              "</table>\n",
              "</div>"
            ],
            "text/plain": [
              "   Survived  Pclass     Sex   Age  SibSp  Parch     Fare Embarked\n",
              "0         0       3    male   NaN      0      0   7.8958        S\n",
              "1         1       3  female  63.0      0      0   9.5875        S\n",
              "2         1       3  female   NaN      0      0   7.7500        Q\n",
              "3         0       3    male   NaN      8      2  69.5500        S\n",
              "4         1       3  female   NaN      0      0   7.7500        Q"
            ]
          },
          "metadata": {
            "tags": []
          },
          "execution_count": 8
        }
      ]
    },
    {
      "cell_type": "markdown",
      "metadata": {
        "id": "gfb8KqNa39gi"
      },
      "source": [
        "We encode the the gender of passenger by numbers, and, as a primitive form of data imputation, replace missing age values with the mean age in the training data:"
      ]
    },
    {
      "cell_type": "code",
      "metadata": {
        "id": "8T5VlkB939gj",
        "outputId": "7bcfe95d-63c4-40a3-f8a3-801ada700511",
        "colab": {
          "base_uri": "https://localhost:8080/",
          "height": 206
        }
      },
      "source": [
        "age_mean = df_train.Age.mean()\n",
        "replacements = {\"Sex\": {\"male\": 1, \"female\":0}, \"Age\": {np.NaN: age_mean}}\n",
        "df_train.replace(replacements, inplace = True)\n",
        "df_valid.replace(replacements, inplace = True)\n",
        "df_train.head()"
      ],
      "execution_count": 9,
      "outputs": [
        {
          "output_type": "execute_result",
          "data": {
            "text/html": [
              "<div>\n",
              "<style scoped>\n",
              "    .dataframe tbody tr th:only-of-type {\n",
              "        vertical-align: middle;\n",
              "    }\n",
              "\n",
              "    .dataframe tbody tr th {\n",
              "        vertical-align: top;\n",
              "    }\n",
              "\n",
              "    .dataframe thead th {\n",
              "        text-align: right;\n",
              "    }\n",
              "</style>\n",
              "<table border=\"1\" class=\"dataframe\">\n",
              "  <thead>\n",
              "    <tr style=\"text-align: right;\">\n",
              "      <th></th>\n",
              "      <th>Survived</th>\n",
              "      <th>Pclass</th>\n",
              "      <th>Sex</th>\n",
              "      <th>Age</th>\n",
              "      <th>SibSp</th>\n",
              "      <th>Parch</th>\n",
              "      <th>Fare</th>\n",
              "      <th>Embarked</th>\n",
              "    </tr>\n",
              "  </thead>\n",
              "  <tbody>\n",
              "    <tr>\n",
              "      <th>0</th>\n",
              "      <td>0</td>\n",
              "      <td>3</td>\n",
              "      <td>1</td>\n",
              "      <td>30.03906</td>\n",
              "      <td>0</td>\n",
              "      <td>0</td>\n",
              "      <td>7.8958</td>\n",
              "      <td>S</td>\n",
              "    </tr>\n",
              "    <tr>\n",
              "      <th>1</th>\n",
              "      <td>1</td>\n",
              "      <td>3</td>\n",
              "      <td>0</td>\n",
              "      <td>63.00000</td>\n",
              "      <td>0</td>\n",
              "      <td>0</td>\n",
              "      <td>9.5875</td>\n",
              "      <td>S</td>\n",
              "    </tr>\n",
              "    <tr>\n",
              "      <th>2</th>\n",
              "      <td>1</td>\n",
              "      <td>3</td>\n",
              "      <td>0</td>\n",
              "      <td>30.03906</td>\n",
              "      <td>0</td>\n",
              "      <td>0</td>\n",
              "      <td>7.7500</td>\n",
              "      <td>Q</td>\n",
              "    </tr>\n",
              "    <tr>\n",
              "      <th>3</th>\n",
              "      <td>0</td>\n",
              "      <td>3</td>\n",
              "      <td>1</td>\n",
              "      <td>30.03906</td>\n",
              "      <td>8</td>\n",
              "      <td>2</td>\n",
              "      <td>69.5500</td>\n",
              "      <td>S</td>\n",
              "    </tr>\n",
              "    <tr>\n",
              "      <th>4</th>\n",
              "      <td>1</td>\n",
              "      <td>3</td>\n",
              "      <td>0</td>\n",
              "      <td>30.03906</td>\n",
              "      <td>0</td>\n",
              "      <td>0</td>\n",
              "      <td>7.7500</td>\n",
              "      <td>Q</td>\n",
              "    </tr>\n",
              "  </tbody>\n",
              "</table>\n",
              "</div>"
            ],
            "text/plain": [
              "   Survived  Pclass  Sex       Age  SibSp  Parch     Fare Embarked\n",
              "0         0       3    1  30.03906      0      0   7.8958        S\n",
              "1         1       3    0  63.00000      0      0   9.5875        S\n",
              "2         1       3    0  30.03906      0      0   7.7500        Q\n",
              "3         0       3    1  30.03906      8      2  69.5500        S\n",
              "4         1       3    0  30.03906      0      0   7.7500        Q"
            ]
          },
          "metadata": {
            "tags": []
          },
          "execution_count": 9
        }
      ]
    },
    {
      "cell_type": "markdown",
      "metadata": {
        "id": "JRYeaJhA39gp"
      },
      "source": [
        "We drop the remaining rows with missing data:"
      ]
    },
    {
      "cell_type": "code",
      "metadata": {
        "id": "dU1Ya-jK39gq",
        "outputId": "c3e00195-e7b2-40a1-fb85-7d3ea23d960c",
        "colab": {
          "base_uri": "https://localhost:8080/",
          "height": 54
        }
      },
      "source": [
        "print(\"Train and test length before dropping:\", len(df_train), len(df_valid))\n",
        "df_train.dropna(inplace=True)\n",
        "df_train.reset_index()\n",
        "df_valid.dropna(inplace=True)\n",
        "df_valid.reset_index()\n",
        "print(\"Train and test length after dropping:\", len(df_train), len(df_valid))"
      ],
      "execution_count": 10,
      "outputs": [
        {
          "output_type": "stream",
          "text": [
            "Train and test length before dropping: 801 90\n",
            "Train and test length after dropping: 799 90\n"
          ],
          "name": "stdout"
        }
      ]
    },
    {
      "cell_type": "markdown",
      "metadata": {
        "id": "YD-yGImG39gu"
      },
      "source": [
        "Finally, we one-hot encode the Embarked column."
      ]
    },
    {
      "cell_type": "code",
      "metadata": {
        "id": "gR4iCcof39gw",
        "outputId": "569c909f-b5e7-440f-fb18-453bee812e1d",
        "colab": {
          "base_uri": "https://localhost:8080/",
          "height": 206
        }
      },
      "source": [
        "df_train = pd.get_dummies(df_train)\n",
        "df_valid = pd.get_dummies(df_valid)\n",
        "df_train.head()"
      ],
      "execution_count": 11,
      "outputs": [
        {
          "output_type": "execute_result",
          "data": {
            "text/html": [
              "<div>\n",
              "<style scoped>\n",
              "    .dataframe tbody tr th:only-of-type {\n",
              "        vertical-align: middle;\n",
              "    }\n",
              "\n",
              "    .dataframe tbody tr th {\n",
              "        vertical-align: top;\n",
              "    }\n",
              "\n",
              "    .dataframe thead th {\n",
              "        text-align: right;\n",
              "    }\n",
              "</style>\n",
              "<table border=\"1\" class=\"dataframe\">\n",
              "  <thead>\n",
              "    <tr style=\"text-align: right;\">\n",
              "      <th></th>\n",
              "      <th>Survived</th>\n",
              "      <th>Pclass</th>\n",
              "      <th>Sex</th>\n",
              "      <th>Age</th>\n",
              "      <th>SibSp</th>\n",
              "      <th>Parch</th>\n",
              "      <th>Fare</th>\n",
              "      <th>Embarked_C</th>\n",
              "      <th>Embarked_Q</th>\n",
              "      <th>Embarked_S</th>\n",
              "    </tr>\n",
              "  </thead>\n",
              "  <tbody>\n",
              "    <tr>\n",
              "      <th>0</th>\n",
              "      <td>0</td>\n",
              "      <td>3</td>\n",
              "      <td>1</td>\n",
              "      <td>30.03906</td>\n",
              "      <td>0</td>\n",
              "      <td>0</td>\n",
              "      <td>7.8958</td>\n",
              "      <td>0</td>\n",
              "      <td>0</td>\n",
              "      <td>1</td>\n",
              "    </tr>\n",
              "    <tr>\n",
              "      <th>1</th>\n",
              "      <td>1</td>\n",
              "      <td>3</td>\n",
              "      <td>0</td>\n",
              "      <td>63.00000</td>\n",
              "      <td>0</td>\n",
              "      <td>0</td>\n",
              "      <td>9.5875</td>\n",
              "      <td>0</td>\n",
              "      <td>0</td>\n",
              "      <td>1</td>\n",
              "    </tr>\n",
              "    <tr>\n",
              "      <th>2</th>\n",
              "      <td>1</td>\n",
              "      <td>3</td>\n",
              "      <td>0</td>\n",
              "      <td>30.03906</td>\n",
              "      <td>0</td>\n",
              "      <td>0</td>\n",
              "      <td>7.7500</td>\n",
              "      <td>0</td>\n",
              "      <td>1</td>\n",
              "      <td>0</td>\n",
              "    </tr>\n",
              "    <tr>\n",
              "      <th>3</th>\n",
              "      <td>0</td>\n",
              "      <td>3</td>\n",
              "      <td>1</td>\n",
              "      <td>30.03906</td>\n",
              "      <td>8</td>\n",
              "      <td>2</td>\n",
              "      <td>69.5500</td>\n",
              "      <td>0</td>\n",
              "      <td>0</td>\n",
              "      <td>1</td>\n",
              "    </tr>\n",
              "    <tr>\n",
              "      <th>4</th>\n",
              "      <td>1</td>\n",
              "      <td>3</td>\n",
              "      <td>0</td>\n",
              "      <td>30.03906</td>\n",
              "      <td>0</td>\n",
              "      <td>0</td>\n",
              "      <td>7.7500</td>\n",
              "      <td>0</td>\n",
              "      <td>1</td>\n",
              "      <td>0</td>\n",
              "    </tr>\n",
              "  </tbody>\n",
              "</table>\n",
              "</div>"
            ],
            "text/plain": [
              "   Survived  Pclass  Sex       Age  ...     Fare  Embarked_C  Embarked_Q  Embarked_S\n",
              "0         0       3    1  30.03906  ...   7.8958           0           0           1\n",
              "1         1       3    0  63.00000  ...   9.5875           0           0           1\n",
              "2         1       3    0  30.03906  ...   7.7500           0           1           0\n",
              "3         0       3    1  30.03906  ...  69.5500           0           0           1\n",
              "4         1       3    0  30.03906  ...   7.7500           0           1           0\n",
              "\n",
              "[5 rows x 10 columns]"
            ]
          },
          "metadata": {
            "tags": []
          },
          "execution_count": 11
        }
      ]
    },
    {
      "cell_type": "markdown",
      "metadata": {
        "id": "L5xhKTZ939g2"
      },
      "source": [
        "## Fitting a perceptron"
      ]
    },
    {
      "cell_type": "code",
      "metadata": {
        "id": "ANAg5XQA39g3",
        "outputId": "2d1b4846-6b4e-4128-ce62-d66f2920bd14",
        "colab": {
          "base_uri": "https://localhost:8080/",
          "height": 1000
        }
      },
      "source": [
        "p = Perceptron()\n",
        "\n",
        "input_cols = list(df_train.columns.values)[1:]\n",
        "\n",
        "X_train = df_train[input_cols].to_numpy()\n",
        "y_train = df_train.Survived.to_numpy()\n",
        "\n",
        "p.fit(X_train, y_train, n_epochs=100, lr=0.001)"
      ],
      "execution_count": 12,
      "outputs": [
        {
          "output_type": "stream",
          "text": [
            "Starting epoch 0\n",
            "Starting epoch 1\n",
            "Starting epoch 2\n",
            "Starting epoch 3\n",
            "Starting epoch 4\n",
            "Starting epoch 5\n",
            "Starting epoch 6\n",
            "Starting epoch 7\n",
            "Starting epoch 8\n",
            "Starting epoch 9\n",
            "Starting epoch 10\n",
            "Starting epoch 11\n",
            "Starting epoch 12\n",
            "Starting epoch 13\n",
            "Starting epoch 14\n",
            "Starting epoch 15\n",
            "Starting epoch 16\n",
            "Starting epoch 17\n",
            "Starting epoch 18\n",
            "Starting epoch 19\n",
            "Starting epoch 20\n",
            "Starting epoch 21\n",
            "Starting epoch 22\n",
            "Starting epoch 23\n",
            "Starting epoch 24\n",
            "Starting epoch 25\n",
            "Starting epoch 26\n",
            "Starting epoch 27\n",
            "Starting epoch 28\n",
            "Starting epoch 29\n",
            "Starting epoch 30\n",
            "Starting epoch 31\n",
            "Starting epoch 32\n",
            "Starting epoch 33\n",
            "Starting epoch 34\n",
            "Starting epoch 35\n",
            "Starting epoch 36\n",
            "Starting epoch 37\n",
            "Starting epoch 38\n",
            "Starting epoch 39\n",
            "Starting epoch 40\n",
            "Starting epoch 41\n",
            "Starting epoch 42\n",
            "Starting epoch 43\n",
            "Starting epoch 44\n",
            "Starting epoch 45\n",
            "Starting epoch 46\n",
            "Starting epoch 47\n",
            "Starting epoch 48\n",
            "Starting epoch 49\n",
            "Starting epoch 50\n",
            "Starting epoch 51\n",
            "Starting epoch 52\n",
            "Starting epoch 53\n",
            "Starting epoch 54\n",
            "Starting epoch 55\n",
            "Starting epoch 56\n",
            "Starting epoch 57\n",
            "Starting epoch 58\n",
            "Starting epoch 59\n",
            "Starting epoch 60\n",
            "Starting epoch 61\n",
            "Starting epoch 62\n",
            "Starting epoch 63\n",
            "Starting epoch 64\n",
            "Starting epoch 65\n",
            "Starting epoch 66\n",
            "Starting epoch 67\n",
            "Starting epoch 68\n",
            "Starting epoch 69\n",
            "Starting epoch 70\n",
            "Starting epoch 71\n",
            "Starting epoch 72\n",
            "Starting epoch 73\n",
            "Starting epoch 74\n",
            "Starting epoch 75\n",
            "Starting epoch 76\n",
            "Starting epoch 77\n",
            "Starting epoch 78\n",
            "Starting epoch 79\n",
            "Starting epoch 80\n",
            "Starting epoch 81\n",
            "Starting epoch 82\n",
            "Starting epoch 83\n",
            "Starting epoch 84\n",
            "Starting epoch 85\n",
            "Starting epoch 86\n",
            "Starting epoch 87\n",
            "Starting epoch 88\n",
            "Starting epoch 89\n",
            "Starting epoch 90\n",
            "Starting epoch 91\n",
            "Starting epoch 92\n",
            "Starting epoch 93\n",
            "Starting epoch 94\n",
            "Starting epoch 95\n",
            "Starting epoch 96\n",
            "Starting epoch 97\n",
            "Starting epoch 98\n",
            "Starting epoch 99\n",
            "Finished training.\n"
          ],
          "name": "stdout"
        }
      ]
    },
    {
      "cell_type": "code",
      "metadata": {
        "id": "3VyK8W3239g8"
      },
      "source": [
        "y_train_predicted = p.predict(X_train)\n",
        "\n",
        "X_valid = df_valid[input_cols].to_numpy()\n",
        "y_valid = df_valid.Survived.to_numpy()\n",
        "\n",
        "y_valid_predicted = p.predict(X_valid)"
      ],
      "execution_count": 13,
      "outputs": []
    },
    {
      "cell_type": "markdown",
      "metadata": {
        "id": "NnooR3OK39hA"
      },
      "source": [
        "Let's see the metrics on our training and validation data:"
      ]
    },
    {
      "cell_type": "code",
      "metadata": {
        "id": "FnvxOy5L39hB",
        "outputId": "981c62fb-da39-4cd7-9057-babd539a5a28",
        "colab": {
          "base_uri": "https://localhost:8080/",
          "height": 167
        }
      },
      "source": [
        "from sklearn.metrics import classification_report\n",
        "\n",
        "print(classification_report(y_train, y_train_predicted, labels=[1], target_names=[\"Survivor\"]))"
      ],
      "execution_count": 14,
      "outputs": [
        {
          "output_type": "stream",
          "text": [
            "              precision    recall  f1-score   support\n",
            "\n",
            "    Survivor       0.69      0.73      0.71       297\n",
            "\n",
            "   micro avg       0.69      0.73      0.71       297\n",
            "   macro avg       0.69      0.73      0.71       297\n",
            "weighted avg       0.69      0.73      0.71       297\n",
            "\n"
          ],
          "name": "stdout"
        }
      ]
    },
    {
      "cell_type": "code",
      "metadata": {
        "id": "2w29P-Km39hE",
        "outputId": "7222a3e7-11b6-4d9e-b738-075444d98233",
        "colab": {
          "base_uri": "https://localhost:8080/",
          "height": 167
        }
      },
      "source": [
        "print(classification_report(y_valid, y_valid_predicted, labels=[1], target_names=[\"Survivor\"]))"
      ],
      "execution_count": 15,
      "outputs": [
        {
          "output_type": "stream",
          "text": [
            "              precision    recall  f1-score   support\n",
            "\n",
            "    Survivor       0.84      0.74      0.79        43\n",
            "\n",
            "   micro avg       0.84      0.74      0.79        43\n",
            "   macro avg       0.84      0.74      0.79        43\n",
            "weighted avg       0.84      0.74      0.79        43\n",
            "\n"
          ],
          "name": "stdout"
        }
      ]
    }
  ]
}